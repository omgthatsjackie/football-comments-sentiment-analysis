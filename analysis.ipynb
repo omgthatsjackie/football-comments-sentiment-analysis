{
 "cells": [
  {
   "cell_type": "code",
   "execution_count": 1,
   "id": "fd8fba54",
   "metadata": {},
   "outputs": [],
   "source": [
    "import pandas as pd\n",
    "from nltk.corpus import stopwords\n",
    "from nltk.tokenize import word_tokenize\n",
    "from string import punctuation\n",
    "from pymorphy2 import MorphAnalyzer\n",
    "from sklearn.feature_extraction.text import CountVectorizer\n",
    "from sklearn.naive_bayes import MultinomialNB\n",
    "from sklearn.model_selection import train_test_split\n",
    "from sklearn.metrics import accuracy_score, f1_score"
   ]
  },
  {
   "cell_type": "markdown",
   "id": "ac752b71",
   "metadata": {},
   "source": [
    "Считываем комментарии РПЛ:"
   ]
  },
  {
   "cell_type": "code",
   "execution_count": 2,
   "id": "ebe1d548",
   "metadata": {},
   "outputs": [],
   "source": [
    "rpl_comments = pd.read_csv('rpl_comments.csv', on_bad_lines='skip')\n",
    "rpl_comments = rpl_comments.sample(frac=1, random_state=42)\n",
    "check_rpl_comments = rpl_comments[1000:2000]['comment']\n",
    "rpl_comments = rpl_comments[:1000]"
   ]
  },
  {
   "cell_type": "markdown",
   "id": "95967271",
   "metadata": {},
   "source": [
    "Считываем комментарии АПЛ:"
   ]
  },
  {
   "cell_type": "code",
   "execution_count": 3,
   "id": "b84adb3a",
   "metadata": {},
   "outputs": [],
   "source": [
    "apl_comments = pd.read_csv('apl_comments.csv', on_bad_lines='skip')\n",
    "apl_comments = apl_comments.sample(frac=1, random_state=42)\n",
    "apl_comments = apl_comments[:1000]\n",
    "check_apl_comments = pd.read_csv('check_apl_comments.txt', on_bad_lines='skip')\n",
    "check_apl_comments = check_apl_comments.sample(frac=1, random_state=42)\n",
    "check_apl_comments = check_apl_comments[:1000]['comment']"
   ]
  },
  {
   "cell_type": "markdown",
   "id": "2196ce2a",
   "metadata": {},
   "source": [
    "Объединяем в выборку для работы модели:"
   ]
  },
  {
   "cell_type": "code",
   "execution_count": 5,
   "id": "709d79e6",
   "metadata": {},
   "outputs": [],
   "source": [
    "df = pd.concat([rpl_comments, apl_comments])\n",
    "comments = df['comment']\n",
    "labels = df['mark']"
   ]
  },
  {
   "cell_type": "markdown",
   "id": "b29b646d",
   "metadata": {},
   "source": [
    "Разбиваем на обучающую и тестовую выборки:"
   ]
  },
  {
   "cell_type": "code",
   "execution_count": 6,
   "id": "4f29462a",
   "metadata": {},
   "outputs": [],
   "source": [
    "x_train, x_test, y_train, y_test = train_test_split(comments, labels, test_size=0.25, random_state=42)\n",
    "stop_words = set(stopwords.words('russian'))\n",
    "morph = MorphAnalyzer()\n",
    "vectorizer = CountVectorizer(token_pattern=r\"(?u)\\b\\w[\\w-]*\\w\\b\")"
   ]
  },
  {
   "cell_type": "markdown",
   "id": "03de6515",
   "metadata": {},
   "source": [
    "Создаём функцию предобработки комментария:"
   ]
  },
  {
   "cell_type": "code",
   "execution_count": 8,
   "id": "2a596719",
   "metadata": {},
   "outputs": [],
   "source": [
    "def process(comment):\n",
    "    # Токенизация\n",
    "    tokens = word_tokenize(comment.lower())\n",
    "    # Удаление стоп-слов и пунктуации\n",
    "    cleaned_tokens = [token for token in tokens if token not in stop_words and token not in punctuation]\n",
    "    letter_tokens = []\n",
    "    # Удаление всех неалфавитных знаков\n",
    "    for token in cleaned_tokens:\n",
    "        token = ''.join([c for c in token if c.isalpha()])\n",
    "        if token:\n",
    "            letter_tokens.append(token)\n",
    "    # Лемматизация\n",
    "    lemmatized = [morph.parse(token)[0].normal_form for token in letter_tokens]\n",
    "    return ' '.join(lemmatized)"
   ]
  },
  {
   "cell_type": "markdown",
   "id": "15684388",
   "metadata": {},
   "source": [
    "Предобработка комментариев и подготовка для использования их моделью:"
   ]
  },
  {
   "cell_type": "code",
   "execution_count": 9,
   "id": "34493be3",
   "metadata": {},
   "outputs": [],
   "source": [
    "x_train = [process(comment) for comment in x_train]\n",
    "x_test = [process(comment) for comment in x_test]\n",
    "check_rpl_comments = [process(comment) for comment in check_rpl_comments]\n",
    "check_apl_comments = [process(comment) for comment in check_apl_comments]\n",
    "x_train = vectorizer.fit_transform(x_train).toarray()\n",
    "x_test = vectorizer.transform(x_test).toarray()\n",
    "check_rpl_comments = vectorizer.transform(check_rpl_comments).toarray()\n",
    "check_apl_comments = vectorizer.transform(check_apl_comments).toarray()"
   ]
  },
  {
   "cell_type": "markdown",
   "id": "360269a3",
   "metadata": {},
   "source": [
    "Обучение модели и проверка её качества:"
   ]
  },
  {
   "cell_type": "code",
   "execution_count": 11,
   "id": "de5f51ac",
   "metadata": {},
   "outputs": [
    {
     "name": "stdout",
     "output_type": "stream",
     "text": [
      "Accuracy: 0.804, f1: 0.804\n"
     ]
    }
   ],
   "source": [
    "model = MultinomialNB()\n",
    "model.fit(x_train, y_train)\n",
    "pred = model.predict(x_test)\n",
    "acc = accuracy_score(y_test, pred)\n",
    "f1 = f1_score(y_test, pred, average=\"micro\")\n",
    "print(f\"Accuracy: {acc}, f1: {f1}\")"
   ]
  },
  {
   "cell_type": "markdown",
   "id": "ed61c889",
   "metadata": {},
   "source": [
    "Анализ выборки комментариев:"
   ]
  },
  {
   "cell_type": "code",
   "execution_count": 13,
   "id": "18a1acd6",
   "metadata": {},
   "outputs": [
    {
     "name": "stdout",
     "output_type": "stream",
     "text": [
      "Количество негативных комментариев болельщиков РПЛ: 39\n",
      "Количество негативных комментариев болельщиков АПЛ: 91\n"
     ]
    }
   ],
   "source": [
    "pred_rpl = model.predict(check_rpl_comments)\n",
    "pred_apl = model.predict(check_apl_comments)\n",
    "pos_rpl, pos_apl = 0, 0\n",
    "for p in pred_rpl: pos_rpl += p\n",
    "for p in pred_apl: pos_apl += p\n",
    "print(f'Количество негативных комментариев болельщиков РПЛ: {1000-pos_rpl}')\n",
    "print(f'Количество негативных комментариев болельщиков АПЛ: {1000-pos_apl}')"
   ]
  }
 ],
 "metadata": {
  "kernelspec": {
   "display_name": "Python 3",
   "language": "python",
   "name": "python3"
  },
  "language_info": {
   "codemirror_mode": {
    "name": "ipython",
    "version": 3
   },
   "file_extension": ".py",
   "mimetype": "text/x-python",
   "name": "python",
   "nbconvert_exporter": "python",
   "pygments_lexer": "ipython3",
   "version": "3.8.8"
  }
 },
 "nbformat": 4,
 "nbformat_minor": 5
}
